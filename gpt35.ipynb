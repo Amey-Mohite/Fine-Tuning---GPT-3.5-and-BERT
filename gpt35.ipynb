{
 "cells": [
  {
   "cell_type": "code",
   "execution_count": 1,
   "metadata": {},
   "outputs": [
    {
     "name": "stdout",
     "output_type": "stream",
     "text": [
      "Requirement already satisfied: openai in e:\\computer_science\\internshipp\\nitesh kumar\\venv\\lib\\site-packages (1.12.0)\n",
      "Collecting openai\n",
      "  Obtaining dependency information for openai from https://files.pythonhosted.org/packages/a9/cc/f2bbce0ad52e09cd1aecb724af06385021b42a7317cd5938ba9c8581509d/openai-1.13.3-py3-none-any.whl.metadata\n",
      "  Downloading openai-1.13.3-py3-none-any.whl.metadata (18 kB)\n",
      "Requirement already satisfied: anyio<5,>=3.5.0 in e:\\computer_science\\internshipp\\nitesh kumar\\venv\\lib\\site-packages (from openai) (4.2.0)\n",
      "Requirement already satisfied: distro<2,>=1.7.0 in e:\\computer_science\\internshipp\\nitesh kumar\\venv\\lib\\site-packages (from openai) (1.9.0)\n",
      "Requirement already satisfied: httpx<1,>=0.23.0 in e:\\computer_science\\internshipp\\nitesh kumar\\venv\\lib\\site-packages (from openai) (0.27.0)\n",
      "Requirement already satisfied: pydantic<3,>=1.9.0 in e:\\computer_science\\internshipp\\nitesh kumar\\venv\\lib\\site-packages (from openai) (2.6.1)\n",
      "Requirement already satisfied: sniffio in e:\\computer_science\\internshipp\\nitesh kumar\\venv\\lib\\site-packages (from openai) (1.3.0)\n",
      "Requirement already satisfied: tqdm>4 in e:\\computer_science\\internshipp\\nitesh kumar\\venv\\lib\\site-packages (from openai) (4.66.1)\n",
      "Requirement already satisfied: typing-extensions<5,>=4.7 in e:\\computer_science\\internshipp\\nitesh kumar\\venv\\lib\\site-packages (from openai) (4.8.0)\n",
      "Requirement already satisfied: idna>=2.8 in e:\\computer_science\\internshipp\\nitesh kumar\\venv\\lib\\site-packages (from anyio<5,>=3.5.0->openai) (3.4)\n",
      "Requirement already satisfied: certifi in e:\\computer_science\\internshipp\\nitesh kumar\\venv\\lib\\site-packages (from httpx<1,>=0.23.0->openai) (2023.11.17)\n",
      "Requirement already satisfied: httpcore==1.* in e:\\computer_science\\internshipp\\nitesh kumar\\venv\\lib\\site-packages (from httpx<1,>=0.23.0->openai) (1.0.4)\n",
      "Requirement already satisfied: h11<0.15,>=0.13 in e:\\computer_science\\internshipp\\nitesh kumar\\venv\\lib\\site-packages (from httpcore==1.*->httpx<1,>=0.23.0->openai) (0.14.0)\n",
      "Requirement already satisfied: annotated-types>=0.4.0 in e:\\computer_science\\internshipp\\nitesh kumar\\venv\\lib\\site-packages (from pydantic<3,>=1.9.0->openai) (0.6.0)\n",
      "Requirement already satisfied: pydantic-core==2.16.2 in e:\\computer_science\\internshipp\\nitesh kumar\\venv\\lib\\site-packages (from pydantic<3,>=1.9.0->openai) (2.16.2)\n",
      "Requirement already satisfied: colorama in e:\\computer_science\\internshipp\\nitesh kumar\\venv\\lib\\site-packages (from tqdm>4->openai) (0.4.6)\n",
      "Downloading openai-1.13.3-py3-none-any.whl (227 kB)\n",
      "   ---------------------------------------- 0.0/227.4 kB ? eta -:--:--\n",
      "   ----- ---------------------------------- 30.7/227.4 kB 1.3 MB/s eta 0:00:01\n",
      "   ---------------------------------------- 227.4/227.4 kB 3.4 MB/s eta 0:00:00\n",
      "Installing collected packages: openai\n",
      "  Attempting uninstall: openai\n",
      "    Found existing installation: openai 1.12.0\n",
      "    Uninstalling openai-1.12.0:\n",
      "      Successfully uninstalled openai-1.12.0\n",
      "Successfully installed openai-1.13.3\n"
     ]
    },
    {
     "name": "stderr",
     "output_type": "stream",
     "text": [
      "\n",
      "[notice] A new release of pip is available: 23.2.1 -> 24.0\n",
      "[notice] To update, run: python.exe -m pip install --upgrade pip\n"
     ]
    }
   ],
   "source": [
    "!pip install -U openai"
   ]
  },
  {
   "cell_type": "code",
   "execution_count": 2,
   "metadata": {},
   "outputs": [
    {
     "name": "stdout",
     "output_type": "stream",
     "text": [
      "Requirement already satisfied: datasets in e:\\computer_science\\internshipp\\nitesh kumar\\venv\\lib\\site-packages (2.16.1)\n",
      "Requirement already satisfied: filelock in e:\\computer_science\\internshipp\\nitesh kumar\\venv\\lib\\site-packages (from datasets) (3.13.1)\n",
      "Requirement already satisfied: numpy>=1.17 in e:\\computer_science\\internshipp\\nitesh kumar\\venv\\lib\\site-packages (from datasets) (1.23.5)\n",
      "Requirement already satisfied: pyarrow>=8.0.0 in e:\\computer_science\\internshipp\\nitesh kumar\\venv\\lib\\site-packages (from datasets) (15.0.0)\n",
      "Requirement already satisfied: pyarrow-hotfix in e:\\computer_science\\internshipp\\nitesh kumar\\venv\\lib\\site-packages (from datasets) (0.6)\n",
      "Requirement already satisfied: dill<0.3.8,>=0.3.0 in e:\\computer_science\\internshipp\\nitesh kumar\\venv\\lib\\site-packages (from datasets) (0.3.7)\n",
      "Requirement already satisfied: pandas in e:\\computer_science\\internshipp\\nitesh kumar\\venv\\lib\\site-packages (from datasets) (2.1.3)\n",
      "Requirement already satisfied: requests>=2.19.0 in e:\\computer_science\\internshipp\\nitesh kumar\\venv\\lib\\site-packages (from datasets) (2.31.0)\n",
      "Requirement already satisfied: tqdm>=4.62.1 in e:\\computer_science\\internshipp\\nitesh kumar\\venv\\lib\\site-packages (from datasets) (4.66.1)\n",
      "Requirement already satisfied: xxhash in e:\\computer_science\\internshipp\\nitesh kumar\\venv\\lib\\site-packages (from datasets) (3.4.1)\n",
      "Requirement already satisfied: multiprocess in e:\\computer_science\\internshipp\\nitesh kumar\\venv\\lib\\site-packages (from datasets) (0.70.15)\n",
      "Requirement already satisfied: fsspec[http]<=2023.10.0,>=2023.1.0 in e:\\computer_science\\internshipp\\nitesh kumar\\venv\\lib\\site-packages (from datasets) (2023.10.0)\n",
      "Requirement already satisfied: aiohttp in e:\\computer_science\\internshipp\\nitesh kumar\\venv\\lib\\site-packages (from datasets) (3.9.1)\n",
      "Requirement already satisfied: huggingface-hub>=0.19.4 in e:\\computer_science\\internshipp\\nitesh kumar\\venv\\lib\\site-packages (from datasets) (0.20.3)\n",
      "Requirement already satisfied: packaging in e:\\computer_science\\internshipp\\nitesh kumar\\venv\\lib\\site-packages (from datasets) (23.2)\n",
      "Requirement already satisfied: pyyaml>=5.1 in e:\\computer_science\\internshipp\\nitesh kumar\\venv\\lib\\site-packages (from datasets) (6.0.1)\n",
      "Requirement already satisfied: attrs>=17.3.0 in e:\\computer_science\\internshipp\\nitesh kumar\\venv\\lib\\site-packages (from aiohttp->datasets) (23.1.0)\n",
      "Requirement already satisfied: multidict<7.0,>=4.5 in e:\\computer_science\\internshipp\\nitesh kumar\\venv\\lib\\site-packages (from aiohttp->datasets) (6.0.4)\n",
      "Requirement already satisfied: yarl<2.0,>=1.0 in e:\\computer_science\\internshipp\\nitesh kumar\\venv\\lib\\site-packages (from aiohttp->datasets) (1.9.4)\n",
      "Requirement already satisfied: frozenlist>=1.1.1 in e:\\computer_science\\internshipp\\nitesh kumar\\venv\\lib\\site-packages (from aiohttp->datasets) (1.4.1)\n",
      "Requirement already satisfied: aiosignal>=1.1.2 in e:\\computer_science\\internshipp\\nitesh kumar\\venv\\lib\\site-packages (from aiohttp->datasets) (1.3.1)\n",
      "Requirement already satisfied: typing-extensions>=3.7.4.3 in e:\\computer_science\\internshipp\\nitesh kumar\\venv\\lib\\site-packages (from huggingface-hub>=0.19.4->datasets) (4.8.0)\n",
      "Requirement already satisfied: charset-normalizer<4,>=2 in e:\\computer_science\\internshipp\\nitesh kumar\\venv\\lib\\site-packages (from requests>=2.19.0->datasets) (3.3.2)\n",
      "Requirement already satisfied: idna<4,>=2.5 in e:\\computer_science\\internshipp\\nitesh kumar\\venv\\lib\\site-packages (from requests>=2.19.0->datasets) (3.4)\n",
      "Requirement already satisfied: urllib3<3,>=1.21.1 in e:\\computer_science\\internshipp\\nitesh kumar\\venv\\lib\\site-packages (from requests>=2.19.0->datasets) (2.1.0)\n",
      "Requirement already satisfied: certifi>=2017.4.17 in e:\\computer_science\\internshipp\\nitesh kumar\\venv\\lib\\site-packages (from requests>=2.19.0->datasets) (2023.11.17)\n",
      "Requirement already satisfied: colorama in e:\\computer_science\\internshipp\\nitesh kumar\\venv\\lib\\site-packages (from tqdm>=4.62.1->datasets) (0.4.6)\n",
      "Requirement already satisfied: python-dateutil>=2.8.2 in e:\\computer_science\\internshipp\\nitesh kumar\\venv\\lib\\site-packages (from pandas->datasets) (2.8.2)\n",
      "Requirement already satisfied: pytz>=2020.1 in e:\\computer_science\\internshipp\\nitesh kumar\\venv\\lib\\site-packages (from pandas->datasets) (2023.3.post1)\n",
      "Requirement already satisfied: tzdata>=2022.1 in e:\\computer_science\\internshipp\\nitesh kumar\\venv\\lib\\site-packages (from pandas->datasets) (2023.3)\n",
      "Requirement already satisfied: six>=1.5 in e:\\computer_science\\internshipp\\nitesh kumar\\venv\\lib\\site-packages (from python-dateutil>=2.8.2->pandas->datasets) (1.16.0)\n",
      "Note: you may need to restart the kernel to use updated packages.\n"
     ]
    },
    {
     "name": "stderr",
     "output_type": "stream",
     "text": [
      "\n",
      "[notice] A new release of pip is available: 23.2.1 -> 24.0\n",
      "[notice] To update, run: python.exe -m pip install --upgrade pip\n"
     ]
    }
   ],
   "source": [
    "pip install datasets"
   ]
  },
  {
   "cell_type": "code",
   "execution_count": 111,
   "metadata": {},
   "outputs": [],
   "source": [
    "import pandas as pd\n",
    "import transformers\n",
    "import torch\n",
    "from datasets import load_dataset\n",
    "from sklearn.model_selection import train_test_split\n",
    "import json\n",
    "from sklearn.metrics import  f1_score,confusion_matrix\n",
    "from openai import OpenAI\n",
    "import openai\n",
    "import json\n"
   ]
  },
  {
   "cell_type": "code",
   "execution_count": 26,
   "metadata": {},
   "outputs": [],
   "source": [
    "client = OpenAI(api_key=\"\") # add your key"
   ]
  },
  {
   "cell_type": "markdown",
   "metadata": {},
   "source": [
    "### Empathetic Dataset"
   ]
  },
  {
   "cell_type": "code",
   "execution_count": 145,
   "metadata": {},
   "outputs": [],
   "source": [
    "dataset = load_dataset(\"empathetic_dialogues\")\n",
    "train = pd.DataFrame(dataset['train'])\n",
    "validation = pd.DataFrame(dataset['validation'])\n",
    "test = pd.DataFrame(dataset['test'])"
   ]
  },
  {
   "cell_type": "code",
   "execution_count": 146,
   "metadata": {},
   "outputs": [
    {
     "data": {
      "text/plain": [
       "((60, 8), (10, 8), (10, 8))"
      ]
     },
     "execution_count": 146,
     "metadata": {},
     "output_type": "execute_result"
    }
   ],
   "source": [
    "# if you want to train faster with less data\n",
    "\n",
    "train = train[train['context'].isin(['sentimental','surprised'])].sample(60).reset_index(drop = True)\n",
    "validation = validation[validation['context'].isin(['sentimental','surprised'])].sample(10).reset_index(drop = True)\n",
    "test = test[test['context'].isin(['sentimental','surprised'])].sample(10).reset_index(drop = True)\n",
    "\n",
    "train.shape,validation.shape,test.shape"
   ]
  },
  {
   "cell_type": "code",
   "execution_count": 147,
   "metadata": {},
   "outputs": [
    {
     "data": {
      "text/plain": [
       "(array(['surprised', 'sentimental'], dtype=object),\n",
       " array(['sentimental', 'surprised'], dtype=object),\n",
       " array(['surprised', 'sentimental'], dtype=object))"
      ]
     },
     "execution_count": 147,
     "metadata": {},
     "output_type": "execute_result"
    }
   ],
   "source": [
    "train['context'].unique(),validation['context'].unique(), test['context'].unique()"
   ]
  },
  {
   "cell_type": "code",
   "execution_count": 148,
   "metadata": {},
   "outputs": [],
   "source": [
    "train[\"text\"] = train['prompt']+\" [SEP] \"+ train['utterance']\n",
    "validation[\"text\"] = validation['prompt']+\" [SEP] \"+ validation['utterance']\n",
    "test[\"text\"] = test['prompt']+\" [SEP] \"+ test['utterance']"
   ]
  },
  {
   "cell_type": "code",
   "execution_count": 149,
   "metadata": {},
   "outputs": [],
   "source": [
    "def convert_to_gpt35_format(dataset):\n",
    "    fine_tuning_data = []\n",
    "    for _, row in dataset.iterrows():\n",
    "        json_response = '{\"context\": \"' + str(row['context']) + '\"}'\n",
    "        fine_tuning_data.append({\n",
    "            \"messages\": [\n",
    "                {\"role\": \"user\", \"content\": row['text']},\n",
    "                {\"role\": \"assistant\", \"content\": json_response}\n",
    "            ]\n",
    "        })\n",
    "    return fine_tuning_data\n"
   ]
  },
  {
   "cell_type": "code",
   "execution_count": 150,
   "metadata": {},
   "outputs": [],
   "source": [
    "gpt_train = convert_to_gpt35_format(train)\n",
    "gpt_val = convert_to_gpt35_format(validation)\n",
    "gpt_test = convert_to_gpt35_format(test)"
   ]
  },
  {
   "cell_type": "code",
   "execution_count": 151,
   "metadata": {},
   "outputs": [],
   "source": [
    "def write_to_jsonl(data, file_path):\n",
    "    with open(file_path, 'w') as file:\n",
    "        for entry in data:\n",
    "            json.dump(entry, file)\n",
    "            file.write('\\n')\n",
    "\n",
    "training_file_name = \"train_em.jsonl\"\n",
    "validation_file_name = \"val_em.jsonl\"\n",
    "\n",
    "write_to_jsonl(gpt_train, training_file_name)\n",
    "write_to_jsonl(gpt_val, validation_file_name)"
   ]
  },
  {
   "cell_type": "code",
   "execution_count": null,
   "metadata": {},
   "outputs": [
    {
     "data": {
      "text/plain": [
       "FineTuningJob(id='ftjob-7IjxoS60HP3LiB6Il0x28OhM', created_at=1709662898, error=Error(code=None, message=None, param=None, error=None), fine_tuned_model=None, finished_at=None, hyperparameters=Hyperparameters(n_epochs='auto', batch_size='auto', learning_rate_multiplier='auto'), model='gpt-3.5-turbo-0125', object='fine_tuning.job', organization_id='org-JJq0vmR96TJvz4sOKvRr7ht1', result_files=[], status='validating_files', trained_tokens=None, training_file='file-qg2FBEUQRBYVEHObCKq5IVPY', validation_file='file-NXivCcEzHDQk6U1sYolrVmqO', user_provided_suffix='gpt_empathi')"
      ]
     },
     "execution_count": 44,
     "metadata": {},
     "output_type": "execute_result"
    }
   ],
   "source": [
    "# Upload Training and Validation Files\n",
    "training_file = client.files.create(\n",
    "    file=open(training_file_name, \"rb\"), purpose=\"fine-tune\"\n",
    ")\n",
    "validation_file = client.files.create(\n",
    "    file=open(validation_file_name, \"rb\"), purpose=\"fine-tune\"\n",
    ")\n",
    "\n",
    "# Create Fine-Tuning Job\n",
    "suffix_name = \"gpt_empathi\"\n",
    "response = client.fine_tuning.jobs.create(\n",
    "    training_file=training_file.id,\n",
    "    validation_file=validation_file.id,\n",
    "    model=\"gpt-3.5-turbo\",\n",
    "    suffix=suffix_name,\n",
    "    hyperparameters={\n",
    "    \"n_epochs\":3\n",
    "  }\n",
    ")\n",
    "response "
   ]
  },
  {
   "cell_type": "code",
   "execution_count": 45,
   "metadata": {},
   "outputs": [
    {
     "data": {
      "text/plain": [
       "SyncCursorPage[FineTuningJob](data=[FineTuningJob(id='ftjob-7IjxoS60HP3LiB6Il0x28OhM', created_at=1709662898, error=Error(code=None, message=None, param=None, error=None), fine_tuned_model=None, finished_at=None, hyperparameters=Hyperparameters(n_epochs='auto', batch_size='auto', learning_rate_multiplier='auto'), model='gpt-3.5-turbo-0125', object='fine_tuning.job', organization_id='org-JJq0vmR96TJvz4sOKvRr7ht1', result_files=[], status='validating_files', trained_tokens=None, training_file='file-qg2FBEUQRBYVEHObCKq5IVPY', validation_file='file-NXivCcEzHDQk6U1sYolrVmqO', user_provided_suffix='gpt_empathi')], object='list', has_more=False)"
      ]
     },
     "execution_count": 45,
     "metadata": {},
     "output_type": "execute_result"
    }
   ],
   "source": [
    "\n",
    "client.fine_tuning.jobs.list(limit=10)# search for suffix_name"
   ]
  },
  {
   "cell_type": "code",
   "execution_count": 155,
   "metadata": {},
   "outputs": [
    {
     "data": {
      "text/plain": [
       "FineTuningJob(id='ftjob-7IjxoS60HP3LiB6Il0x28OhM', created_at=1709662898, error=Error(code=None, message=None, param=None, error=None), fine_tuned_model='ft:gpt-3.5-turbo-0125:personal:gpt-empathi:8zTrwilN', finished_at=1709663515, hyperparameters=Hyperparameters(n_epochs=3, batch_size=1, learning_rate_multiplier=2), model='gpt-3.5-turbo-0125', object='fine_tuning.job', organization_id='org-JJq0vmR96TJvz4sOKvRr7ht1', result_files=['file-w15qxZRi9s6DEUkPBwKkfa8x'], status='succeeded', trained_tokens=10221, training_file='file-qg2FBEUQRBYVEHObCKq5IVPY', validation_file='file-NXivCcEzHDQk6U1sYolrVmqO', user_provided_suffix='gpt_empathi')"
      ]
     },
     "execution_count": 155,
     "metadata": {},
     "output_type": "execute_result"
    }
   ],
   "source": [
    "response = client.fine_tuning.jobs.retrieve(\"ftjob-7IjxoS60HP3LiB6Il0x28OhM\") # retrieve based on yours job\n",
    "response \n",
    "     "
   ]
  },
  {
   "cell_type": "code",
   "execution_count": 156,
   "metadata": {},
   "outputs": [
    {
     "name": "stdout",
     "output_type": "stream",
     "text": [
      "\n",
      "Fine-tuned model id: ft:gpt-3.5-turbo-0125:personal:gpt-empathi:8zTrwilN\n"
     ]
    }
   ],
   "source": [
    "fine_tuned_model_id = response.fine_tuned_model\n",
    "print(\"\\nFine-tuned model id:\", fine_tuned_model_id)"
   ]
  },
  {
   "cell_type": "code",
   "execution_count": 157,
   "metadata": {},
   "outputs": [],
   "source": [
    "def format_test(row):\n",
    "    formatted_message = [{\"role\": \"user\", \"content\": row['text']}]\n",
    "    return formatted_message\n",
    "\n",
    "def predict(test_messages, fine_tuned_model_id):\n",
    "    response = client.chat.completions.create(\n",
    "        model=fine_tuned_model_id, messages=test_messages, temperature=0, max_tokens=50\n",
    "    )\n",
    "    return response.choices[0].message.content\n",
    "\n",
    "def store_predictions(test_df,y_test, fine_tuned_model_id):\n",
    "    test_df['Prediction'] = None\n",
    "    pred = []\n",
    "    for index, row in test_df.iterrows():\n",
    "        test_message = format_test(row)\n",
    "        prediction_result = predict(test_message, fine_tuned_model_id)\n",
    "        pred.append(prediction_result)\n",
    "    pred = [json.loads(i.replace(\"'\", \"\\\"\"))['context'] for i in pred]\n",
    "    print(\"F1 Score : \", f1_score(pred,y_test,average='weighted'))\n",
    "    print(\"Confusion Matrix  : \", confusion_matrix(pred,y_test))\n",
    "    # test_df.to_csv(\"predictions.csv\")"
   ]
  },
  {
   "cell_type": "code",
   "execution_count": 158,
   "metadata": {},
   "outputs": [
    {
     "name": "stdout",
     "output_type": "stream",
     "text": [
      "F1 Score :  0.9032967032967033\n",
      "Confusion Matrix  :  [[3 0]\n",
      " [1 6]]\n"
     ]
    }
   ],
   "source": [
    "store_predictions(test,test['context'], fine_tuned_model_id)"
   ]
  },
  {
   "cell_type": "markdown",
   "metadata": {},
   "source": [
    "### conv_ai_2"
   ]
  },
  {
   "cell_type": "code",
   "execution_count": 64,
   "metadata": {},
   "outputs": [],
   "source": [
    "dataset = load_dataset(\"conv_ai_2\")\n",
    "df = pd.DataFrame(dataset['train'])"
   ]
  },
  {
   "cell_type": "code",
   "execution_count": 65,
   "metadata": {},
   "outputs": [],
   "source": [
    "df = df.sample(100)"
   ]
  },
  {
   "cell_type": "code",
   "execution_count": 66,
   "metadata": {},
   "outputs": [
    {
     "data": {
      "text/html": [
       "<div>\n",
       "<style scoped>\n",
       "    .dataframe tbody tr th:only-of-type {\n",
       "        vertical-align: middle;\n",
       "    }\n",
       "\n",
       "    .dataframe tbody tr th {\n",
       "        vertical-align: top;\n",
       "    }\n",
       "\n",
       "    .dataframe thead th {\n",
       "        text-align: right;\n",
       "    }\n",
       "</style>\n",
       "<table border=\"1\" class=\"dataframe\">\n",
       "  <thead>\n",
       "    <tr style=\"text-align: right;\">\n",
       "      <th></th>\n",
       "      <th>combined_text</th>\n",
       "      <th>profile_match</th>\n",
       "    </tr>\n",
       "  </thead>\n",
       "  <tbody>\n",
       "    <tr>\n",
       "      <th>2847</th>\n",
       "      <td>i own a house in florida. i work in it and hav...</td>\n",
       "      <td>1</td>\n",
       "    </tr>\n",
       "    <tr>\n",
       "      <th>2611</th>\n",
       "      <td>i do not have a smartphone. i can sew my own c...</td>\n",
       "      <td>1</td>\n",
       "    </tr>\n",
       "    <tr>\n",
       "      <th>426</th>\n",
       "      <td>my main transportation is my motorbike. its re...</td>\n",
       "      <td>0</td>\n",
       "    </tr>\n",
       "    <tr>\n",
       "      <th>3124</th>\n",
       "      <td>spiderman is my favorite. l also love comic bo...</td>\n",
       "      <td>-1</td>\n",
       "    </tr>\n",
       "    <tr>\n",
       "      <th>677</th>\n",
       "      <td>i love to play pobox. i am a 12 year old girl....</td>\n",
       "      <td>0</td>\n",
       "    </tr>\n",
       "  </tbody>\n",
       "</table>\n",
       "</div>"
      ],
      "text/plain": [
       "                                          combined_text  profile_match\n",
       "2847  i own a house in florida. i work in it and hav...              1\n",
       "2611  i do not have a smartphone. i can sew my own c...              1\n",
       "426   my main transportation is my motorbike. its re...              0\n",
       "3124  spiderman is my favorite. l also love comic bo...             -1\n",
       "677   i love to play pobox. i am a 12 year old girl....              0"
      ]
     },
     "execution_count": 66,
     "metadata": {},
     "output_type": "execute_result"
    }
   ],
   "source": [
    "def preprocess_dialog(dialog):\n",
    "    try:\n",
    "        dialog_list = dialog\n",
    "        dialog_text = \" \".join([d['text'] for d in dialog_list])\n",
    "        return dialog_text\n",
    "    except:\n",
    "        return \"\"\n",
    "\n",
    "def preprocess_profile(profile):\n",
    "    try:\n",
    "        profile_list = profile\n",
    "        profile_text = ' '.join([''.join(char_list) for char_list in profile_list])\n",
    "        return profile_text\n",
    "    except:\n",
    "        return \"\"\n",
    "\n",
    "# Apply preprocessing\n",
    "df['dialog_text'] = df['dialog'].apply(preprocess_dialog)\n",
    "df['bot_profile_text'] = df['bot_profile'].apply(preprocess_profile)\n",
    "df['user_profile_text'] = df['user_profile'].apply(preprocess_profile)\n",
    "\n",
    "# Combine dialog and profiles\n",
    "df['combined_text'] = df['bot_profile_text'] + \" [SEP] \" + df['user_profile_text'] + \" [SEP] \" + df['dialog_text']\n",
    "\n",
    "# Display the processed data\n",
    "df[['combined_text', 'profile_match']].head()"
   ]
  },
  {
   "cell_type": "code",
   "execution_count": 67,
   "metadata": {},
   "outputs": [],
   "source": [
    "df = df[['combined_text', 'profile_match']]"
   ]
  },
  {
   "cell_type": "code",
   "execution_count": 69,
   "metadata": {},
   "outputs": [
    {
     "data": {
      "text/plain": [
       "profile_match\n",
       " 1    60\n",
       " 0    29\n",
       "-1    11\n",
       "Name: count, dtype: int64"
      ]
     },
     "execution_count": 69,
     "metadata": {},
     "output_type": "execute_result"
    }
   ],
   "source": [
    "df['profile_match'].value_counts()"
   ]
  },
  {
   "cell_type": "code",
   "execution_count": 70,
   "metadata": {},
   "outputs": [],
   "source": [
    "# Stratified splitting. Assuming 'Top Category' can be used for stratification\n",
    "train_data, val_data = train_test_split(\n",
    "    df,\n",
    "    test_size=0.2,\n",
    "    stratify=df['profile_match'],\n",
    "    random_state=42  # for reproducibility\n",
    ")"
   ]
  },
  {
   "cell_type": "code",
   "execution_count": 117,
   "metadata": {},
   "outputs": [],
   "source": [
    "def convert_to_gpt35_format(dataset):\n",
    "    fine_tuning_data = []\n",
    "    for _, row in dataset.iterrows():\n",
    "        json_response = '{\"profile_match\": \"' + str(row['profile_match']) + '\"}'\n",
    "        fine_tuning_data.append({\n",
    "            \"messages\": [\n",
    "                {\"role\": \"user\", \"content\": row['combined_text']},\n",
    "                {\"role\": \"assistant\", \"content\": json_response}\n",
    "            ]\n",
    "        })\n",
    "    return fine_tuning_data\n"
   ]
  },
  {
   "cell_type": "code",
   "execution_count": 118,
   "metadata": {},
   "outputs": [],
   "source": [
    "gpt_train_data = convert_to_gpt35_format(train_data)\n",
    "gpt_val_data = convert_to_gpt35_format(val_data)"
   ]
  },
  {
   "cell_type": "code",
   "execution_count": 119,
   "metadata": {},
   "outputs": [],
   "source": [
    "def write_to_jsonl(data, file_path):\n",
    "    with open(file_path, 'w') as file:\n",
    "        for entry in data:\n",
    "            json.dump(entry, file)\n",
    "            file.write('\\n')\n",
    "\n",
    "training_file_name = \"train.jsonl\"\n",
    "validation_file_name = \"val.jsonl\"\n",
    "\n",
    "write_to_jsonl(gpt_train_data, training_file_name)\n",
    "write_to_jsonl(gpt_val_data, validation_file_name)"
   ]
  },
  {
   "cell_type": "code",
   "execution_count": 74,
   "metadata": {},
   "outputs": [
    {
     "data": {
      "text/plain": [
       "FineTuningJob(id='ftjob-Q8oePaIOhuZtKkcUcxS1He2b', created_at=1709663435, error=Error(code=None, message=None, param=None, error=None), fine_tuned_model=None, finished_at=None, hyperparameters=Hyperparameters(n_epochs=2, batch_size='auto', learning_rate_multiplier='auto'), model='gpt-3.5-turbo-0125', object='fine_tuning.job', organization_id='org-JJq0vmR96TJvz4sOKvRr7ht1', result_files=[], status='validating_files', trained_tokens=None, training_file='file-AU5FuMbFdq7qLy3tIuvYlAQk', validation_file='file-jJQ7MChRPdn4H09Myhxmnqho', user_provided_suffix='gpt_conv_ai')"
      ]
     },
     "execution_count": 74,
     "metadata": {},
     "output_type": "execute_result"
    }
   ],
   "source": [
    "# Upload Training and Validation Files\n",
    "training_file = client.files.create(\n",
    "    file=open(training_file_name, \"rb\"), purpose=\"fine-tune\"\n",
    ")\n",
    "validation_file = client.files.create(\n",
    "    file=open(validation_file_name, \"rb\"), purpose=\"fine-tune\"\n",
    ")\n",
    "\n",
    "# Create Fine-Tuning Job\n",
    "suffix_name = \"gpt_conv_ai\"\n",
    "response = client.fine_tuning.jobs.create(\n",
    "    training_file=training_file.id,\n",
    "    validation_file=validation_file.id,\n",
    "    model=\"gpt-3.5-turbo\",\n",
    "    suffix=suffix_name,\n",
    "     hyperparameters={\n",
    "    \"n_epochs\":2\n",
    "  }\n",
    ")\n",
    "response "
   ]
  },
  {
   "cell_type": "code",
   "execution_count": 120,
   "metadata": {},
   "outputs": [
    {
     "data": {
      "text/plain": [
       "SyncCursorPage[FineTuningJob](data=[FineTuningJob(id='ftjob-Q8oePaIOhuZtKkcUcxS1He2b', created_at=1709663435, error=Error(code=None, message=None, param=None, error=None), fine_tuned_model='ft:gpt-3.5-turbo-0125:personal:gpt-conv-ai:8zU14FGH', finished_at=1709664081, hyperparameters=Hyperparameters(n_epochs=2, batch_size=1, learning_rate_multiplier=2), model='gpt-3.5-turbo-0125', object='fine_tuning.job', organization_id='org-JJq0vmR96TJvz4sOKvRr7ht1', result_files=['file-a5ZXtVWj0j185mQMT2xpJFHt'], status='succeeded', trained_tokens=37886, training_file='file-AU5FuMbFdq7qLy3tIuvYlAQk', validation_file='file-jJQ7MChRPdn4H09Myhxmnqho', user_provided_suffix='gpt_conv_ai'), FineTuningJob(id='ftjob-7IjxoS60HP3LiB6Il0x28OhM', created_at=1709662898, error=Error(code=None, message=None, param=None, error=None), fine_tuned_model='ft:gpt-3.5-turbo-0125:personal:gpt-empathi:8zTrwilN', finished_at=1709663515, hyperparameters=Hyperparameters(n_epochs=3, batch_size=1, learning_rate_multiplier=2), model='gpt-3.5-turbo-0125', object='fine_tuning.job', organization_id='org-JJq0vmR96TJvz4sOKvRr7ht1', result_files=['file-w15qxZRi9s6DEUkPBwKkfa8x'], status='succeeded', trained_tokens=10221, training_file='file-qg2FBEUQRBYVEHObCKq5IVPY', validation_file='file-NXivCcEzHDQk6U1sYolrVmqO', user_provided_suffix='gpt_empathi')], object='list', has_more=False)"
      ]
     },
     "execution_count": 120,
     "metadata": {},
     "output_type": "execute_result"
    }
   ],
   "source": [
    "client.fine_tuning.jobs.list(limit=10) # search for suffix_name"
   ]
  },
  {
   "cell_type": "code",
   "execution_count": 121,
   "metadata": {},
   "outputs": [
    {
     "data": {
      "text/plain": [
       "FineTuningJob(id='ftjob-Q8oePaIOhuZtKkcUcxS1He2b', created_at=1709663435, error=Error(code=None, message=None, param=None, error=None), fine_tuned_model='ft:gpt-3.5-turbo-0125:personal:gpt-conv-ai:8zU14FGH', finished_at=1709664081, hyperparameters=Hyperparameters(n_epochs=2, batch_size=1, learning_rate_multiplier=2), model='gpt-3.5-turbo-0125', object='fine_tuning.job', organization_id='org-JJq0vmR96TJvz4sOKvRr7ht1', result_files=['file-a5ZXtVWj0j185mQMT2xpJFHt'], status='succeeded', trained_tokens=37886, training_file='file-AU5FuMbFdq7qLy3tIuvYlAQk', validation_file='file-jJQ7MChRPdn4H09Myhxmnqho', user_provided_suffix='gpt_conv_ai')"
      ]
     },
     "execution_count": 121,
     "metadata": {},
     "output_type": "execute_result"
    }
   ],
   "source": [
    "response = client.fine_tuning.jobs.retrieve(\"ftjob-Q8oePaIOhuZtKkcUcxS1He2b\") # retrieve based on yours job\n",
    "response\n",
    "     "
   ]
  },
  {
   "cell_type": "code",
   "execution_count": 122,
   "metadata": {},
   "outputs": [
    {
     "name": "stdout",
     "output_type": "stream",
     "text": [
      "\n",
      "Fine-tuned model id: ft:gpt-3.5-turbo-0125:personal:gpt-conv-ai:8zU14FGH\n"
     ]
    }
   ],
   "source": [
    "fine_tuned_model_id = response.fine_tuned_model\n",
    "print(\"\\nFine-tuned model id:\", fine_tuned_model_id)"
   ]
  },
  {
   "cell_type": "code",
   "execution_count": 131,
   "metadata": {},
   "outputs": [],
   "source": [
    "def format_test(row):\n",
    "    formatted_message = [{\"role\": \"user\", \"content\": row['combined_text']}]\n",
    "    return formatted_message\n",
    "\n",
    "def predict(test_messages, fine_tuned_model_id):\n",
    "    response = client.chat.completions.create(\n",
    "        model=fine_tuned_model_id, messages=test_messages, temperature=0, max_tokens=50\n",
    "    )\n",
    "    return response.choices[0].message.content\n",
    "\n",
    "def store_predictions(test_df,y_test, fine_tuned_model_id):\n",
    "    test_df['Prediction'] = None\n",
    "    pred = []\n",
    "    for index, row in test_df.iterrows():\n",
    "        test_message = format_test(row)\n",
    "        prediction_result = predict(test_message, fine_tuned_model_id)\n",
    "        pred.append(prediction_result)\n",
    "    pred = [int(json.loads(i.replace(\"'\", \"\\\"\"))['profile_match']) for i in pred]\n",
    "    print(\"F1 Score : \", f1_score(pred,y_test,average='weighted'))\n",
    "    print(\"Confusion Matrix  : \", confusion_matrix(pred,y_test))\n",
    "    # test_df.to_csv(\"predictions.csv\")"
   ]
  },
  {
   "cell_type": "code",
   "execution_count": 132,
   "metadata": {},
   "outputs": [
    {
     "name": "stdout",
     "output_type": "stream",
     "text": [
      "F1 Score :  0.7354838709677419\n",
      "Confusion Matrix  :  [[ 0  0  0  0]\n",
      " [ 0  0  0  0]\n",
      " [ 1  6 12  0]\n",
      " [ 1  0  0  0]]\n"
     ]
    }
   ],
   "source": [
    "store_predictions(val_data,val_data['profile_match'], fine_tuned_model_id)"
   ]
  }
 ],
 "metadata": {
  "kernelspec": {
   "display_name": "venv",
   "language": "python",
   "name": "python3"
  },
  "language_info": {
   "codemirror_mode": {
    "name": "ipython",
    "version": 3
   },
   "file_extension": ".py",
   "mimetype": "text/x-python",
   "name": "python",
   "nbconvert_exporter": "python",
   "pygments_lexer": "ipython3",
   "version": "3.11.8"
  }
 },
 "nbformat": 4,
 "nbformat_minor": 2
}
