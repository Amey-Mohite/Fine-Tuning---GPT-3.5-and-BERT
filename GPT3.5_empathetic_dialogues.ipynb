{
 "cells": [
  {
   "cell_type": "code",
   "execution_count": 60,
   "metadata": {},
   "outputs": [
    {
     "name": "stdout",
     "output_type": "stream",
     "text": [
      "Requirement already satisfied: openai in e:\\computer_science\\internshipp\\nitesh kumar\\venv\\lib\\site-packages (1.12.0)\n",
      "Requirement already satisfied: anyio<5,>=3.5.0 in e:\\computer_science\\internshipp\\nitesh kumar\\venv\\lib\\site-packages (from openai) (4.2.0)\n",
      "Requirement already satisfied: distro<2,>=1.7.0 in e:\\computer_science\\internshipp\\nitesh kumar\\venv\\lib\\site-packages (from openai) (1.9.0)\n",
      "Requirement already satisfied: httpx<1,>=0.23.0 in e:\\computer_science\\internshipp\\nitesh kumar\\venv\\lib\\site-packages (from openai) (0.27.0)\n",
      "Requirement already satisfied: pydantic<3,>=1.9.0 in e:\\computer_science\\internshipp\\nitesh kumar\\venv\\lib\\site-packages (from openai) (2.6.1)\n",
      "Requirement already satisfied: sniffio in e:\\computer_science\\internshipp\\nitesh kumar\\venv\\lib\\site-packages (from openai) (1.3.0)\n",
      "Requirement already satisfied: tqdm>4 in e:\\computer_science\\internshipp\\nitesh kumar\\venv\\lib\\site-packages (from openai) (4.66.1)\n",
      "Requirement already satisfied: typing-extensions<5,>=4.7 in e:\\computer_science\\internshipp\\nitesh kumar\\venv\\lib\\site-packages (from openai) (4.8.0)\n",
      "Requirement already satisfied: idna>=2.8 in e:\\computer_science\\internshipp\\nitesh kumar\\venv\\lib\\site-packages (from anyio<5,>=3.5.0->openai) (3.4)\n",
      "Requirement already satisfied: certifi in e:\\computer_science\\internshipp\\nitesh kumar\\venv\\lib\\site-packages (from httpx<1,>=0.23.0->openai) (2023.11.17)\n",
      "Requirement already satisfied: httpcore==1.* in e:\\computer_science\\internshipp\\nitesh kumar\\venv\\lib\\site-packages (from httpx<1,>=0.23.0->openai) (1.0.4)\n",
      "Requirement already satisfied: h11<0.15,>=0.13 in e:\\computer_science\\internshipp\\nitesh kumar\\venv\\lib\\site-packages (from httpcore==1.*->httpx<1,>=0.23.0->openai) (0.14.0)\n",
      "Requirement already satisfied: annotated-types>=0.4.0 in e:\\computer_science\\internshipp\\nitesh kumar\\venv\\lib\\site-packages (from pydantic<3,>=1.9.0->openai) (0.6.0)\n",
      "Requirement already satisfied: pydantic-core==2.16.2 in e:\\computer_science\\internshipp\\nitesh kumar\\venv\\lib\\site-packages (from pydantic<3,>=1.9.0->openai) (2.16.2)\n",
      "Requirement already satisfied: colorama in e:\\computer_science\\internshipp\\nitesh kumar\\venv\\lib\\site-packages (from tqdm>4->openai) (0.4.6)\n"
     ]
    },
    {
     "name": "stderr",
     "output_type": "stream",
     "text": [
      "\n",
      "[notice] A new release of pip is available: 23.2.1 -> 24.0\n",
      "[notice] To update, run: python.exe -m pip install --upgrade pip\n"
     ]
    }
   ],
   "source": [
    "!pip install -U openai"
   ]
  },
  {
   "cell_type": "code",
   "execution_count": 61,
   "metadata": {},
   "outputs": [
    {
     "name": "stdout",
     "output_type": "stream",
     "text": [
      "Requirement already satisfied: datasets in e:\\computer_science\\internshipp\\nitesh kumar\\venv\\lib\\site-packages (2.16.1)\n",
      "Requirement already satisfied: filelock in e:\\computer_science\\internshipp\\nitesh kumar\\venv\\lib\\site-packages (from datasets) (3.13.1)\n",
      "Requirement already satisfied: numpy>=1.17 in e:\\computer_science\\internshipp\\nitesh kumar\\venv\\lib\\site-packages (from datasets) (1.23.5)\n",
      "Requirement already satisfied: pyarrow>=8.0.0 in e:\\computer_science\\internshipp\\nitesh kumar\\venv\\lib\\site-packages (from datasets) (15.0.0)\n",
      "Requirement already satisfied: pyarrow-hotfix in e:\\computer_science\\internshipp\\nitesh kumar\\venv\\lib\\site-packages (from datasets) (0.6)\n",
      "Requirement already satisfied: dill<0.3.8,>=0.3.0 in e:\\computer_science\\internshipp\\nitesh kumar\\venv\\lib\\site-packages (from datasets) (0.3.7)\n",
      "Requirement already satisfied: pandas in e:\\computer_science\\internshipp\\nitesh kumar\\venv\\lib\\site-packages (from datasets) (2.1.3)\n",
      "Requirement already satisfied: requests>=2.19.0 in e:\\computer_science\\internshipp\\nitesh kumar\\venv\\lib\\site-packages (from datasets) (2.31.0)\n",
      "Requirement already satisfied: tqdm>=4.62.1 in e:\\computer_science\\internshipp\\nitesh kumar\\venv\\lib\\site-packages (from datasets) (4.66.1)\n",
      "Requirement already satisfied: xxhash in e:\\computer_science\\internshipp\\nitesh kumar\\venv\\lib\\site-packages (from datasets) (3.4.1)\n",
      "Requirement already satisfied: multiprocess in e:\\computer_science\\internshipp\\nitesh kumar\\venv\\lib\\site-packages (from datasets) (0.70.15)\n",
      "Requirement already satisfied: fsspec[http]<=2023.10.0,>=2023.1.0 in e:\\computer_science\\internshipp\\nitesh kumar\\venv\\lib\\site-packages (from datasets) (2023.10.0)\n",
      "Requirement already satisfied: aiohttp in e:\\computer_science\\internshipp\\nitesh kumar\\venv\\lib\\site-packages (from datasets) (3.9.1)\n",
      "Requirement already satisfied: huggingface-hub>=0.19.4 in e:\\computer_science\\internshipp\\nitesh kumar\\venv\\lib\\site-packages (from datasets) (0.20.3)\n",
      "Requirement already satisfied: packaging in e:\\computer_science\\internshipp\\nitesh kumar\\venv\\lib\\site-packages (from datasets) (23.2)\n",
      "Requirement already satisfied: pyyaml>=5.1 in e:\\computer_science\\internshipp\\nitesh kumar\\venv\\lib\\site-packages (from datasets) (6.0.1)\n",
      "Requirement already satisfied: attrs>=17.3.0 in e:\\computer_science\\internshipp\\nitesh kumar\\venv\\lib\\site-packages (from aiohttp->datasets) (23.1.0)\n",
      "Requirement already satisfied: multidict<7.0,>=4.5 in e:\\computer_science\\internshipp\\nitesh kumar\\venv\\lib\\site-packages (from aiohttp->datasets) (6.0.4)\n",
      "Requirement already satisfied: yarl<2.0,>=1.0 in e:\\computer_science\\internshipp\\nitesh kumar\\venv\\lib\\site-packages (from aiohttp->datasets) (1.9.4)\n",
      "Requirement already satisfied: frozenlist>=1.1.1 in e:\\computer_science\\internshipp\\nitesh kumar\\venv\\lib\\site-packages (from aiohttp->datasets) (1.4.1)\n",
      "Requirement already satisfied: aiosignal>=1.1.2 in e:\\computer_science\\internshipp\\nitesh kumar\\venv\\lib\\site-packages (from aiohttp->datasets) (1.3.1)\n",
      "Requirement already satisfied: typing-extensions>=3.7.4.3 in e:\\computer_science\\internshipp\\nitesh kumar\\venv\\lib\\site-packages (from huggingface-hub>=0.19.4->datasets) (4.8.0)\n",
      "Requirement already satisfied: charset-normalizer<4,>=2 in e:\\computer_science\\internshipp\\nitesh kumar\\venv\\lib\\site-packages (from requests>=2.19.0->datasets) (3.3.2)\n",
      "Requirement already satisfied: idna<4,>=2.5 in e:\\computer_science\\internshipp\\nitesh kumar\\venv\\lib\\site-packages (from requests>=2.19.0->datasets) (3.4)\n",
      "Requirement already satisfied: urllib3<3,>=1.21.1 in e:\\computer_science\\internshipp\\nitesh kumar\\venv\\lib\\site-packages (from requests>=2.19.0->datasets) (2.1.0)\n",
      "Requirement already satisfied: certifi>=2017.4.17 in e:\\computer_science\\internshipp\\nitesh kumar\\venv\\lib\\site-packages (from requests>=2.19.0->datasets) (2023.11.17)\n",
      "Requirement already satisfied: colorama in e:\\computer_science\\internshipp\\nitesh kumar\\venv\\lib\\site-packages (from tqdm>=4.62.1->datasets) (0.4.6)\n",
      "Requirement already satisfied: python-dateutil>=2.8.2 in e:\\computer_science\\internshipp\\nitesh kumar\\venv\\lib\\site-packages (from pandas->datasets) (2.8.2)\n",
      "Requirement already satisfied: pytz>=2020.1 in e:\\computer_science\\internshipp\\nitesh kumar\\venv\\lib\\site-packages (from pandas->datasets) (2023.3.post1)\n",
      "Requirement already satisfied: tzdata>=2022.1 in e:\\computer_science\\internshipp\\nitesh kumar\\venv\\lib\\site-packages (from pandas->datasets) (2023.3)\n",
      "Requirement already satisfied: six>=1.5 in e:\\computer_science\\internshipp\\nitesh kumar\\venv\\lib\\site-packages (from python-dateutil>=2.8.2->pandas->datasets) (1.16.0)\n",
      "Note: you may need to restart the kernel to use updated packages.\n"
     ]
    },
    {
     "name": "stderr",
     "output_type": "stream",
     "text": [
      "\n",
      "[notice] A new release of pip is available: 23.2.1 -> 24.0\n",
      "[notice] To update, run: python.exe -m pip install --upgrade pip\n"
     ]
    }
   ],
   "source": [
    "pip install datasets"
   ]
  },
  {
   "cell_type": "code",
   "execution_count": 62,
   "metadata": {},
   "outputs": [],
   "source": [
    "import pandas as pd\n",
    "import transformers\n",
    "import torch\n",
    "from datasets import load_dataset\n",
    "from sklearn.model_selection import train_test_split\n",
    "import json\n",
    "from sklearn.metrics import accuracy_score, precision_score, recall_score, f1_score\n"
   ]
  },
  {
   "cell_type": "code",
   "execution_count": 63,
   "metadata": {},
   "outputs": [],
   "source": [
    "from openai import OpenAI\n",
    "client = OpenAI(api_key=\"your_open_ai_key\")"
   ]
  },
  {
   "cell_type": "code",
   "execution_count": 64,
   "metadata": {},
   "outputs": [],
   "source": [
    "dataset = load_dataset(\"empathetic_dialogues\")\n",
    "train = pd.DataFrame(dataset['train'])\n",
    "validation = pd.DataFrame(dataset['validation'])\n",
    "test = pd.DataFrame(dataset['test'])"
   ]
  },
  {
   "cell_type": "code",
   "execution_count": 65,
   "metadata": {},
   "outputs": [],
   "source": [
    "# if you want to train faster with less data\n",
    "\n",
    "train = train[train['context'].isin(['sentimental','surprised'])].sample(100).reset_index(drop = True)\n",
    "validation = validation[validation['context'].isin(['sentimental','surprised'])].sample(20).reset_index(drop = True)\n",
    "test = test[test['context'].isin(['sentimental','surprised'])].sample(20).reset_index(drop = True)"
   ]
  },
  {
   "cell_type": "code",
   "execution_count": 66,
   "metadata": {},
   "outputs": [
    {
     "data": {
      "text/plain": [
       "((100, 8), (20, 8), (20, 8))"
      ]
     },
     "execution_count": 66,
     "metadata": {},
     "output_type": "execute_result"
    }
   ],
   "source": [
    "train.shape,validation.shape,test.shape"
   ]
  },
  {
   "cell_type": "code",
   "execution_count": 67,
   "metadata": {},
   "outputs": [
    {
     "data": {
      "text/plain": [
       "(array(['surprised', 'sentimental'], dtype=object),\n",
       " array(['surprised', 'sentimental'], dtype=object),\n",
       " array(['sentimental', 'surprised'], dtype=object))"
      ]
     },
     "execution_count": 67,
     "metadata": {},
     "output_type": "execute_result"
    }
   ],
   "source": [
    "train['context'].unique(),validation['context'].unique(), test['context'].unique()"
   ]
  },
  {
   "cell_type": "code",
   "execution_count": 68,
   "metadata": {},
   "outputs": [],
   "source": [
    "train[\"text\"] = train['prompt']+\" [SEP] \"+ train['utterance']\n",
    "validation[\"text\"] = validation['prompt']+\" [SEP] \"+ validation['utterance']\n",
    "test[\"text\"] = test['prompt']+\" [SEP] \"+ test['utterance']"
   ]
  },
  {
   "cell_type": "code",
   "execution_count": 69,
   "metadata": {},
   "outputs": [],
   "source": [
    "def convert_to_gpt35_format(dataset):\n",
    "    fine_tuning_data = []\n",
    "    for _, row in dataset.iterrows():\n",
    "        json_response = '{\"context\": \"' + str(row['context']) + '\"}'\n",
    "        fine_tuning_data.append({\n",
    "            \"messages\": [\n",
    "                {\"role\": \"user\", \"content\": row['text']},\n",
    "                {\"role\": \"system\", \"content\": json_response}\n",
    "            ]\n",
    "        })\n",
    "    return fine_tuning_data\n"
   ]
  },
  {
   "cell_type": "code",
   "execution_count": 70,
   "metadata": {},
   "outputs": [],
   "source": [
    "gpt_train = convert_to_gpt35_format(train)\n",
    "gpt_val = convert_to_gpt35_format(validation)\n",
    "gpt_test = convert_to_gpt35_format(test)"
   ]
  },
  {
   "cell_type": "code",
   "execution_count": 71,
   "metadata": {},
   "outputs": [
    {
     "data": {
      "text/plain": [
       "[{'messages': [{'role': 'user',\n",
       "    'content': \"I was going through boxes the other day. I came across old pictures I didn't know I still had. It really made me think back. [SEP] Yes_comma_ definitely! It really made us all start talking about those and other memories_comma_ good times.\"},\n",
       "   {'role': 'system', 'content': '{\"context\": \"sentimental\"}'}]},\n",
       " {'messages': [{'role': 'user',\n",
       "    'content': 'I saw a dog get hit by a car today_comma_ it was a very emotional day. [SEP] Oh no!!! Did you see what happened to the dog?!'},\n",
       "   {'role': 'system', 'content': '{\"context\": \"sentimental\"}'}]},\n",
       " {'messages': [{'role': 'user',\n",
       "    'content': \"I recently found out that I am having baby number 4.  [SEP] That's nice! Kids are great\"},\n",
       "   {'role': 'system', 'content': '{\"context\": \"surprised\"}'}]},\n",
       " {'messages': [{'role': 'user',\n",
       "    'content': 'I recently won a $100 on a scratch off! I never win so I was really taken back. [SEP] Not usually_comma_ I never win. so_comma_ it was very unexpected.'},\n",
       "   {'role': 'system', 'content': '{\"context\": \"surprised\"}'}]},\n",
       " {'messages': [{'role': 'user',\n",
       "    'content': 'i really like my new car i did not expect it to be such a good veichle for the price [SEP] Well thats good. Probaby saved a bunch of coins'},\n",
       "   {'role': 'system', 'content': '{\"context\": \"surprised\"}'}]},\n",
       " {'messages': [{'role': 'user',\n",
       "    'content': \"Seeing his sad eyes my heart suffers_comma_ my daughter is my weakness [SEP] Hello ... I confess that when I see my daughter's eyes_comma_ my heart suffers.\"},\n",
       "   {'role': 'system', 'content': '{\"context\": \"sentimental\"}'}]},\n",
       " {'messages': [{'role': 'user',\n",
       "    'content': 'I came home from work today and my wife had a new puppy waiting for me.  [SEP] sounds like a wonderful day!'},\n",
       "   {'role': 'system', 'content': '{\"context\": \"surprised\"}'}]},\n",
       " {'messages': [{'role': 'user',\n",
       "    'content': 'I have never been more shocked the night my fiance proposed to me. We were at a concert and during a special song he got down on one knee and asked me to marry him. Of course_comma_ I said yes! [SEP] They started playing one of our special songs and the next think I knew he was down on one knee. I said yes_comma_ of course!'},\n",
       "   {'role': 'system', 'content': '{\"context\": \"surprised\"}'}]},\n",
       " {'messages': [{'role': 'user',\n",
       "    'content': \"I've been recently thinking about how I let the girl of my dreams slip from me. She is great. [SEP] Definitely_comma_ I think so too_comma_ time and right care.\"},\n",
       "   {'role': 'system', 'content': '{\"context\": \"sentimental\"}'}]},\n",
       " {'messages': [{'role': 'user',\n",
       "    'content': \"I found an old necklace my grandmother gave me for a birthday when I was very young recently. It brought back a lot of memories! [SEP] I'm so sorry.! But I'm really glad you've got those pleasant memories and the memento to hold on to so you can remember her fondly. \"},\n",
       "   {'role': 'system', 'content': '{\"context\": \"sentimental\"}'}]},\n",
       " {'messages': [{'role': 'user',\n",
       "    'content': \"So i'm flying with my baby and i was surprised when they told me i don't need to pay for my baby's ticket [SEP] i know! now i can spend the rest of the money on something cool \"},\n",
       "   {'role': 'system', 'content': '{\"context\": \"surprised\"}'}]},\n",
       " {'messages': [{'role': 'user',\n",
       "    'content': \"My dog hasn't had any accidents in the house. He is finally potty trained_comma_ I thought it would take longer then a week [SEP] What kind of dog\"},\n",
       "   {'role': 'system', 'content': '{\"context\": \"surprised\"}'}]},\n",
       " {'messages': [{'role': 'user',\n",
       "    'content': \"I recently had an experience with a girl I used to love. We had a one night stand and it was crazy! [SEP] I'm glad you made amends then and no drama.\"},\n",
       "   {'role': 'system', 'content': '{\"context\": \"surprised\"}'}]},\n",
       " {'messages': [{'role': 'user',\n",
       "    'content': \"I always get sad when i think about my dad. He passed away this time last year. [SEP] I'm sorry? Are you still talking about the cops?\"},\n",
       "   {'role': 'system', 'content': '{\"context\": \"sentimental\"}'}]},\n",
       " {'messages': [{'role': 'user',\n",
       "    'content': \"When I was younger_comma_ there was a car I really wanted. I had worked to make the money for it_comma_ but needed a bit more. However_comma_ for my birthday_comma_ my parents paid the rest and gave me the car. [SEP] I agree. I really wanted to do it myself_comma_ but it's something I'll never forget.\"},\n",
       "   {'role': 'system', 'content': '{\"context\": \"surprised\"}'}]},\n",
       " {'messages': [{'role': 'user',\n",
       "    'content': 'I found letters that my wife wrote me when we first dating. They gave me all of the feels. [SEP] Aww. Thats nnice'},\n",
       "   {'role': 'system', 'content': '{\"context\": \"sentimental\"}'}]},\n",
       " {'messages': [{'role': 'user',\n",
       "    'content': \"Do you like to go through old family pictures? [SEP] I also love to look through the old scrapbooks my mom made when I was a baby and young child. I find it's so funny to see what you looked like as a child.\"},\n",
       "   {'role': 'system', 'content': '{\"context\": \"sentimental\"}'}]},\n",
       " {'messages': [{'role': 'user',\n",
       "    'content': 'I am really not a very sentimental person but it makes me feel very special whenever my husband takes me back to the place we spent our anniversary.  It is a beautiful bed and breakfast and we love going there whenever we can.  We feel like it  [SEP] Sounds like a nice little place. I am glad you two have that spot to share.'},\n",
       "   {'role': 'system', 'content': '{\"context\": \"sentimental\"}'}]},\n",
       " {'messages': [{'role': 'user',\n",
       "    'content': 'I came home from work and my husband had dinner already made. It felt nice to be able to just relax. [SEP] Thats awesome_comma_ can we trade?'},\n",
       "   {'role': 'system', 'content': '{\"context\": \"surprised\"}'}]},\n",
       " {'messages': [{'role': 'user',\n",
       "    'content': 'My good friend came over last night! It was shocking since he lives hours away [SEP] that sounds fun!'},\n",
       "   {'role': 'system', 'content': '{\"context\": \"surprised\"}'}]}]"
      ]
     },
     "execution_count": 71,
     "metadata": {},
     "output_type": "execute_result"
    }
   ],
   "source": [
    "gpt_test"
   ]
  },
  {
   "cell_type": "code",
   "execution_count": 72,
   "metadata": {},
   "outputs": [],
   "source": [
    "def write_to_jsonl(data, file_path):\n",
    "    with open(file_path, 'w') as file:\n",
    "        for entry in data:\n",
    "            json.dump(entry, file)\n",
    "            file.write('\\n')\n",
    "\n",
    "training_file_name = \"train_em.jsonl\"\n",
    "validation_file_name = \"val_em.jsonl\"\n",
    "\n",
    "write_to_jsonl(gpt_train, training_file_name)\n",
    "write_to_jsonl(gpt_val, validation_file_name)"
   ]
  },
  {
   "cell_type": "code",
   "execution_count": null,
   "metadata": {},
   "outputs": [],
   "source": [
    "# Upload Training and Validation Files\n",
    "training_file = client.files.create(\n",
    "    file=open(training_file_name, \"rb\"), purpose=\"fine-tune\"\n",
    ")\n",
    "validation_file = client.files.create(\n",
    "    file=open(validation_file_name, \"rb\"), purpose=\"fine-tune\"\n",
    ")\n",
    "\n",
    "# Create Fine-Tuning Job\n",
    "suffix_name = \"gpt_empathi\"\n",
    "response = client.fine_tuning.jobs.create(\n",
    "    training_file=training_file.id,\n",
    "    validation_file=validation_file.id,\n",
    "    model=\"gpt-3.5-turbo\",\n",
    "    suffix=suffix_name,\n",
    ")\n",
    "response "
   ]
  },
  {
   "cell_type": "code",
   "execution_count": null,
   "metadata": {},
   "outputs": [],
   "source": [
    "\n",
    "client.fine_tuning.jobs.list(limit=10)# search for suffix_name"
   ]
  },
  {
   "cell_type": "code",
   "execution_count": null,
   "metadata": {},
   "outputs": [],
   "source": [
    "response = client.fine_tuning.jobs.retrieve(\"ftjob-h5P9gmmDXysjbOD99jz8TtYv\") # retrieve based on yours job\n",
    "response \n",
    "     "
   ]
  },
  {
   "cell_type": "code",
   "execution_count": null,
   "metadata": {},
   "outputs": [],
   "source": [
    "fine_tuned_model_id = response.fine_tuned_model\n",
    "print(\"\\nFine-tuned model id:\", fine_tuned_model_id)"
   ]
  },
  {
   "cell_type": "code",
   "execution_count": null,
   "metadata": {},
   "outputs": [],
   "source": [
    "def format_test(row):\n",
    "    formatted_message = [{\"role\": \"user\", \"content\": row['Support Query']}]\n",
    "    return formatted_message\n",
    "\n",
    "def predict(test_messages, fine_tuned_model_id):\n",
    "    response = client.chat.completions.create(\n",
    "        model=fine_tuned_model_id, messages=test_messages, temperature=0, max_tokens=50\n",
    "    )\n",
    "    return response.choices[0].message.content\n",
    "\n",
    "def store_predictions(test_df,y_test, fine_tuned_model_id):\n",
    "    test_df['Prediction'] = None\n",
    "    pred = []\n",
    "    for index, row in test_df.iterrows():\n",
    "        test_message = format_test(row)\n",
    "        prediction_result = predict(test_message, fine_tuned_model_id)\n",
    "        pred.append(prediction_result)\n",
    "    print(\"F1 Score : \", f1_score(pred,y_test))\n",
    "\n",
    "    # test_df.to_csv(\"predictions.csv\")"
   ]
  },
  {
   "cell_type": "code",
   "execution_count": null,
   "metadata": {},
   "outputs": [],
   "source": [
    "store_predictions(test,test['context'], fine_tuned_model_id)"
   ]
  }
 ],
 "metadata": {
  "kernelspec": {
   "display_name": "venv",
   "language": "python",
   "name": "python3"
  },
  "language_info": {
   "codemirror_mode": {
    "name": "ipython",
    "version": 3
   },
   "file_extension": ".py",
   "mimetype": "text/x-python",
   "name": "python",
   "nbconvert_exporter": "python",
   "pygments_lexer": "ipython3",
   "version": "3.11.8"
  }
 },
 "nbformat": 4,
 "nbformat_minor": 2
}
